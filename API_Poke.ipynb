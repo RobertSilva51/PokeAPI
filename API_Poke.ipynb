{
 "cells": [
  {
   "cell_type": "code",
   "execution_count": 1,
   "metadata": {},
   "outputs": [],
   "source": [
    "import pandas as pd\n",
    "import requests"
   ]
  },
  {
   "cell_type": "code",
   "execution_count": 2,
   "metadata": {},
   "outputs": [],
   "source": [
    "# Definir o nome do pokemon\n",
    "base = {\n",
    "    'name' : [],\n",
    "    'id' : [],\n",
    "}"
   ]
  },
  {
   "cell_type": "code",
   "execution_count": 8,
   "metadata": {},
   "outputs": [],
   "source": [
    "#Inicio com um função para fazer a requisão na API\n",
    "def info (qtd):\n",
    "    lista = []\n",
    "    for i in range(1,qtd +1):\n",
    "        response = requests.get(f\"https://pokeapi.co/api/v2/pokemon/{i}\")\n",
    "        if response.status_code == 200:  #Definido código 200 saber o status da API\n",
    "            res = response.json()\n",
    "            lista.append({'name_poke': res['name'], 'id_poke': res['id']})\n",
    "        else:\n",
    "            print('Erro')\n",
    "    return lista\n",
    "\n",
    "lista = info(100)"
   ]
  },
  {
   "cell_type": "code",
   "execution_count": 9,
   "metadata": {},
   "outputs": [],
   "source": [
    "def area (qtd):\n",
    "    lista_area = []\n",
    "    for i in range(1,qtd+1):\n",
    "        response_location = requests.get(f\"https://pokeapi.co/api/v2/pokemon/{i}/encounters\")\n",
    "        if response_location.status_code == 200:  #Definido código 200 saber o status da API\n",
    "            res_location = response_location.json()\n",
    "            if res_location:  # Verifica se a lista não está vazia\n",
    "                lista_area.append(res_location[0]['location_area']['name'])\n",
    "            else:\n",
    "                lista_area.append('Vazio')\n",
    "        else:\n",
    "            print('Erro')\n",
    "    return lista_area\n",
    "\n",
    "lista_area = area(100)"
   ]
  },
  {
   "cell_type": "code",
   "execution_count": 10,
   "metadata": {},
   "outputs": [],
   "source": [
    "base = pd.DataFrame(lista)\n",
    "base['area'] = lista_area"
   ]
  },
  {
   "cell_type": "code",
   "execution_count": 165,
   "metadata": {},
   "outputs": [],
   "source": [
    "base.to_csv('pokeAPI.csv', index = False)"
   ]
  }
 ],
 "metadata": {
  "kernelspec": {
   "display_name": "Python 3",
   "language": "python",
   "name": "python3"
  },
  "language_info": {
   "codemirror_mode": {
    "name": "ipython",
    "version": 3
   },
   "file_extension": ".py",
   "mimetype": "text/x-python",
   "name": "python",
   "nbconvert_exporter": "python",
   "pygments_lexer": "ipython3",
   "version": "3.11.9"
  }
 },
 "nbformat": 4,
 "nbformat_minor": 2
}
