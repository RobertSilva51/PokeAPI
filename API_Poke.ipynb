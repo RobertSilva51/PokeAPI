{
 "cells": [
  {
   "cell_type": "code",
   "execution_count": 19,
   "metadata": {},
   "outputs": [],
   "source": [
    "import pandas as pd\n",
    "import requests"
   ]
  },
  {
   "cell_type": "code",
   "execution_count": 20,
   "metadata": {},
   "outputs": [],
   "source": [
    "# Definir o nome do pokemon\n",
    "base = {\n",
    "    'name' : [],\n",
    "    'id' : [],\n",
    "}"
   ]
  },
  {
   "cell_type": "code",
   "execution_count": 21,
   "metadata": {},
   "outputs": [],
   "source": [
    "#Inicio com um função para fazer a requisão na API\n",
    "def info (qtd):\n",
    "    lista = []\n",
    "    for i in range(1,qtd +1):\n",
    "        response = requests.get(f\"https://pokeapi.co/api/v2/pokemon/{i}\")\n",
    "        if response.status_code == 200:  #Definido código 200 saber o status da API\n",
    "            res = response.json()\n",
    "            lista.append({'name_poke': res['name'], 'id_poke': res['id']})\n",
    "        else:\n",
    "            print('Erro')\n",
    "    return lista\n",
    "\n",
    "lista = info(10)"
   ]
  },
  {
   "cell_type": "code",
   "execution_count": 38,
   "metadata": {},
   "outputs": [],
   "source": [
    "def area (qtd):\n",
    "    lista_area = []\n",
    "    for i in range(1,qtd+1):\n",
    "        response_location = requests.get(f\"https://pokeapi.co/api/v2/pokemon/{i}/encounters\")\n",
    "        if response_location.status_code == 200:  #Definido código 200 saber o status da API\n",
    "            res_location = response_location.json()\n",
    "            if res_location:  # Verifica se a lista não está vazia\n",
    "                lista_area.append(res_location[0]['location_area']['name'])\n",
    "            else:\n",
    "                lista_area.append('Vazio')\n",
    "        else:\n",
    "            print('Erro')\n",
    "    return lista_area\n",
    "\n",
    "lista_area = area(10)"
   ]
  },
  {
   "cell_type": "code",
   "execution_count": 47,
   "metadata": {},
   "outputs": [],
   "source": [
    "base = pd.DataFrame(lista)\n",
    "base['area'] = lista_area"
   ]
  },
  {
   "cell_type": "code",
   "execution_count": 49,
   "metadata": {},
   "outputs": [
    {
     "data": {
      "text/html": [
       "<div>\n",
       "<style scoped>\n",
       "    .dataframe tbody tr th:only-of-type {\n",
       "        vertical-align: middle;\n",
       "    }\n",
       "\n",
       "    .dataframe tbody tr th {\n",
       "        vertical-align: top;\n",
       "    }\n",
       "\n",
       "    .dataframe thead th {\n",
       "        text-align: right;\n",
       "    }\n",
       "</style>\n",
       "<table border=\"1\" class=\"dataframe\">\n",
       "  <thead>\n",
       "    <tr style=\"text-align: right;\">\n",
       "      <th></th>\n",
       "      <th>name_poke</th>\n",
       "      <th>id_poke</th>\n",
       "      <th>area</th>\n",
       "    </tr>\n",
       "  </thead>\n",
       "  <tbody>\n",
       "    <tr>\n",
       "      <th>0</th>\n",
       "      <td>bulbasaur</td>\n",
       "      <td>1</td>\n",
       "      <td>cerulean-city-area</td>\n",
       "    </tr>\n",
       "    <tr>\n",
       "      <th>1</th>\n",
       "      <td>ivysaur</td>\n",
       "      <td>2</td>\n",
       "      <td>Vazio</td>\n",
       "    </tr>\n",
       "    <tr>\n",
       "      <th>2</th>\n",
       "      <td>venusaur</td>\n",
       "      <td>3</td>\n",
       "      <td>Vazio</td>\n",
       "    </tr>\n",
       "    <tr>\n",
       "      <th>3</th>\n",
       "      <td>charmander</td>\n",
       "      <td>4</td>\n",
       "      <td>pallet-town-area</td>\n",
       "    </tr>\n",
       "    <tr>\n",
       "      <th>4</th>\n",
       "      <td>charmeleon</td>\n",
       "      <td>5</td>\n",
       "      <td>Vazio</td>\n",
       "    </tr>\n",
       "    <tr>\n",
       "      <th>5</th>\n",
       "      <td>charizard</td>\n",
       "      <td>6</td>\n",
       "      <td>Vazio</td>\n",
       "    </tr>\n",
       "    <tr>\n",
       "      <th>6</th>\n",
       "      <td>squirtle</td>\n",
       "      <td>7</td>\n",
       "      <td>vermilion-city-area</td>\n",
       "    </tr>\n",
       "    <tr>\n",
       "      <th>7</th>\n",
       "      <td>wartortle</td>\n",
       "      <td>8</td>\n",
       "      <td>Vazio</td>\n",
       "    </tr>\n",
       "    <tr>\n",
       "      <th>8</th>\n",
       "      <td>blastoise</td>\n",
       "      <td>9</td>\n",
       "      <td>Vazio</td>\n",
       "    </tr>\n",
       "    <tr>\n",
       "      <th>9</th>\n",
       "      <td>caterpie</td>\n",
       "      <td>10</td>\n",
       "      <td>eterna-forest-area</td>\n",
       "    </tr>\n",
       "  </tbody>\n",
       "</table>\n",
       "</div>"
      ],
      "text/plain": [
       "    name_poke  id_poke                 area\n",
       "0   bulbasaur        1   cerulean-city-area\n",
       "1     ivysaur        2                Vazio\n",
       "2    venusaur        3                Vazio\n",
       "3  charmander        4     pallet-town-area\n",
       "4  charmeleon        5                Vazio\n",
       "5   charizard        6                Vazio\n",
       "6    squirtle        7  vermilion-city-area\n",
       "7   wartortle        8                Vazio\n",
       "8   blastoise        9                Vazio\n",
       "9    caterpie       10   eterna-forest-area"
      ]
     },
     "execution_count": 49,
     "metadata": {},
     "output_type": "execute_result"
    }
   ],
   "source": [
    "base"
   ]
  },
  {
   "cell_type": "code",
   "execution_count": 165,
   "metadata": {},
   "outputs": [],
   "source": [
    "base.to_csv('pokeAPI.csv', index = False)"
   ]
  }
 ],
 "metadata": {
  "kernelspec": {
   "display_name": "Python 3",
   "language": "python",
   "name": "python3"
  },
  "language_info": {
   "codemirror_mode": {
    "name": "ipython",
    "version": 3
   },
   "file_extension": ".py",
   "mimetype": "text/x-python",
   "name": "python",
   "nbconvert_exporter": "python",
   "pygments_lexer": "ipython3",
   "version": "3.11.9"
  }
 },
 "nbformat": 4,
 "nbformat_minor": 2
}
